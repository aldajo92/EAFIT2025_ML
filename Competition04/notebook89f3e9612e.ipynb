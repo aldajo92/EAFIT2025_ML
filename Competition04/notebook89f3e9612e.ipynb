{
 "cells": [
  {
   "cell_type": "code",
   "execution_count": 1,
   "metadata": {
    "_cell_guid": "b1076dfc-b9ad-4769-8c92-a6c4dae69d19",
    "_uuid": "8f2839f25d086af736a60e9eeb907d3b93b6e0e5",
    "editable": false,
    "trusted": true
   },
   "outputs": [
    {
     "name": "stdout",
     "output_type": "stream",
     "text": [
      "/kaggle/input/imdb-dataset-of-50k-movie-reviews/IMDB Dataset.csv\n"
     ]
    }
   ],
   "source": [
    "# This Python 3 environment comes with many helpful analytics libraries installed\n",
    "# It is defined by the kaggle/python Docker image: https://github.com/kaggle/docker-python\n",
    "# For example, here's several helpful packages to load\n",
    "\n",
    "import numpy as np # linear algebra\n",
    "import pandas as pd # data processing, CSV file I/O (e.g. pd.read_csv)\n",
    "\n",
    "# Input data files are available in the read-only \"../input/\" directory\n",
    "# For example, running this (by clicking run or pressing Shift+Enter) will list all files under the input directory\n",
    "\n",
    "import os\n",
    "for dirname, _, filenames in os.walk('/kaggle/input'):\n",
    "    for filename in filenames:\n",
    "        print(os.path.join(dirname, filename))\n",
    "        break\n",
    "\n",
    "# You can write up to 20GB to the current directory (/kaggle/working/) that gets preserved as output when you create a version using \"Save & Run All\" \n",
    "# You can also write temporary files to /kaggle/temp/, but they won't be saved outside of the current session"
   ]
  },
  {
   "cell_type": "code",
   "execution_count": 2,
   "metadata": {
    "editable": false,
    "execution": {
     "iopub.execute_input": "2025-02-17T20:01:04.470824Z",
     "iopub.status.busy": "2025-02-17T20:01:04.470324Z",
     "iopub.status.idle": "2025-02-17T20:01:04.474718Z",
     "shell.execute_reply": "2025-02-17T20:01:04.473837Z",
     "shell.execute_reply.started": "2025-02-17T20:01:04.470793Z"
    },
    "trusted": true
   },
   "outputs": [
    {
     "name": "stderr",
     "output_type": "stream",
     "text": [
      "/usr/local/lib/python3.11/dist-packages/pydantic/_internal/_generate_schema.py:2225: UnsupportedFieldAttributeWarning: The 'repr' attribute with value False was provided to the `Field()` function, which has no effect in the context it was used. 'repr' is field-specific metadata, and can only be attached to a model field using `Annotated` metadata or by assignment. This may have happened because an `Annotated` type alias using the `type` statement was used, or if the `Field()` function was attached to a single member of a union type.\n",
      "  warnings.warn(\n",
      "/usr/local/lib/python3.11/dist-packages/pydantic/_internal/_generate_schema.py:2225: UnsupportedFieldAttributeWarning: The 'frozen' attribute with value True was provided to the `Field()` function, which has no effect in the context it was used. 'frozen' is field-specific metadata, and can only be attached to a model field using `Annotated` metadata or by assignment. This may have happened because an `Annotated` type alias using the `type` statement was used, or if the `Field()` function was attached to a single member of a union type.\n",
      "  warnings.warn(\n"
     ]
    }
   ],
   "source": [
    "from huggingface_hub import notebook_login\n",
    "import wandb"
   ]
  },
  {
   "cell_type": "code",
   "execution_count": 3,
   "metadata": {
    "editable": false,
    "execution": {
     "iopub.execute_input": "2025-02-17T20:01:07.856537Z",
     "iopub.status.busy": "2025-02-17T20:01:07.856261Z",
     "iopub.status.idle": "2025-02-17T20:01:08.116922Z",
     "shell.execute_reply": "2025-02-17T20:01:08.116054Z",
     "shell.execute_reply.started": "2025-02-17T20:01:07.856513Z"
    },
    "trusted": true
   },
   "outputs": [],
   "source": [
    "from kaggle_secrets import UserSecretsClient\n",
    "user_secrets = UserSecretsClient()\n",
    "wandb = user_secrets.get_secret(\"wandb\")\n",
    "hf = user_secrets.get_secret(\"huggingface\")\n",
    "\n",
    "#https://www.kaggle.com/discussions/getting-started/324615"
   ]
  },
  {
   "cell_type": "code",
   "execution_count": 4,
   "metadata": {
    "editable": false,
    "execution": {
     "iopub.execute_input": "2025-02-17T20:01:29.313816Z",
     "iopub.status.busy": "2025-02-17T20:01:29.313506Z",
     "iopub.status.idle": "2025-02-17T20:01:30.030432Z",
     "shell.execute_reply": "2025-02-17T20:01:30.029493Z",
     "shell.execute_reply.started": "2025-02-17T20:01:29.313789Z"
    },
    "trusted": true
   },
   "outputs": [
    {
     "name": "stdout",
     "output_type": "stream",
     "text": [
      "\u001b[33m⚠️  Warning: 'huggingface-cli login' is deprecated. Use 'hf auth login' instead.\u001b[0m\n",
      "The token has not been saved to the git credentials helper. Pass `add_to_git_credential=True` in this function directly or `--add-to-git-credential` if using via `hf`CLI if you want to set the git credential as well.\n",
      "Token is valid (permission: write).\n",
      "The token `kaggle` has been saved to /root/.cache/huggingface/stored_tokens\n",
      "Your token has been saved to /root/.cache/huggingface/token\n",
      "Login successful.\n",
      "The current active token is: `kaggle`\n"
     ]
    }
   ],
   "source": [
    "!huggingface-cli login --token $hf"
   ]
  },
  {
   "cell_type": "code",
   "execution_count": 5,
   "metadata": {
    "editable": false,
    "execution": {
     "iopub.execute_input": "2025-02-17T20:03:55.275476Z",
     "iopub.status.busy": "2025-02-17T20:03:55.275Z",
     "iopub.status.idle": "2025-02-17T20:03:56.406883Z",
     "shell.execute_reply": "2025-02-17T20:03:56.405811Z",
     "shell.execute_reply.started": "2025-02-17T20:03:55.275436Z"
    },
    "trusted": true
   },
   "outputs": [
    {
     "name": "stdout",
     "output_type": "stream",
     "text": [
      "/usr/local/lib/python3.11/dist-packages/pydantic/_internal/_generate_schema.py:2225: UnsupportedFieldAttributeWarning: The 'repr' attribute with value False was provided to the `Field()` function, which has no effect in the context it was used. 'repr' is field-specific metadata, and can only be attached to a model field using `Annotated` metadata or by assignment. This may have happened because an `Annotated` type alias using the `type` statement was used, or if the `Field()` function was attached to a single member of a union type.\n",
      "  warnings.warn(\n",
      "/usr/local/lib/python3.11/dist-packages/pydantic/_internal/_generate_schema.py:2225: UnsupportedFieldAttributeWarning: The 'frozen' attribute with value True was provided to the `Field()` function, which has no effect in the context it was used. 'frozen' is field-specific metadata, and can only be attached to a model field using `Annotated` metadata or by assignment. This may have happened because an `Annotated` type alias using the `type` statement was used, or if the `Field()` function was attached to a single member of a union type.\n",
      "  warnings.warn(\n",
      "\u001b[34m\u001b[1mwandb\u001b[0m: \u001b[33mWARNING\u001b[0m If you're specifying your api key in code, ensure this code is not shared publicly.\n",
      "\u001b[34m\u001b[1mwandb\u001b[0m: \u001b[33mWARNING\u001b[0m Consider setting the WANDB_API_KEY environment variable, or running `wandb login` from the command line.\n",
      "\u001b[34m\u001b[1mwandb\u001b[0m: Appending key for api.wandb.ai to your netrc file: /root/.netrc\n",
      "\u001b[34m\u001b[1mwandb\u001b[0m: W&B API key is configured. Use \u001b[1m`wandb login --relogin`\u001b[0m to force relogin\n"
     ]
    }
   ],
   "source": [
    "!wandb login $wandb"
   ]
  },
  {
   "cell_type": "code",
   "execution_count": 6,
   "metadata": {
    "editable": false,
    "execution": {
     "iopub.execute_input": "2025-02-17T20:04:41.736255Z",
     "iopub.status.busy": "2025-02-17T20:04:41.735899Z",
     "iopub.status.idle": "2025-02-17T20:04:43.315128Z",
     "shell.execute_reply": "2025-02-17T20:04:43.314171Z",
     "shell.execute_reply.started": "2025-02-17T20:04:41.736224Z"
    },
    "trusted": true
   },
   "outputs": [
    {
     "data": {
      "text/html": [
       "<div>\n",
       "<style scoped>\n",
       "    .dataframe tbody tr th:only-of-type {\n",
       "        vertical-align: middle;\n",
       "    }\n",
       "\n",
       "    .dataframe tbody tr th {\n",
       "        vertical-align: top;\n",
       "    }\n",
       "\n",
       "    .dataframe thead th {\n",
       "        text-align: right;\n",
       "    }\n",
       "</style>\n",
       "<table border=\"1\" class=\"dataframe\">\n",
       "  <thead>\n",
       "    <tr style=\"text-align: right;\">\n",
       "      <th></th>\n",
       "      <th>review</th>\n",
       "      <th>sentiment</th>\n",
       "    </tr>\n",
       "  </thead>\n",
       "  <tbody>\n",
       "    <tr>\n",
       "      <th>0</th>\n",
       "      <td>One of the other reviewers has mentioned that ...</td>\n",
       "      <td>positive</td>\n",
       "    </tr>\n",
       "    <tr>\n",
       "      <th>1</th>\n",
       "      <td>A wonderful little production. &lt;br /&gt;&lt;br /&gt;The...</td>\n",
       "      <td>positive</td>\n",
       "    </tr>\n",
       "    <tr>\n",
       "      <th>2</th>\n",
       "      <td>I thought this was a wonderful way to spend ti...</td>\n",
       "      <td>positive</td>\n",
       "    </tr>\n",
       "    <tr>\n",
       "      <th>3</th>\n",
       "      <td>Basically there's a family where a little boy ...</td>\n",
       "      <td>negative</td>\n",
       "    </tr>\n",
       "    <tr>\n",
       "      <th>4</th>\n",
       "      <td>Petter Mattei's \"Love in the Time of Money\" is...</td>\n",
       "      <td>positive</td>\n",
       "    </tr>\n",
       "  </tbody>\n",
       "</table>\n",
       "</div>"
      ],
      "text/plain": [
       "                                              review sentiment\n",
       "0  One of the other reviewers has mentioned that ...  positive\n",
       "1  A wonderful little production. <br /><br />The...  positive\n",
       "2  I thought this was a wonderful way to spend ti...  positive\n",
       "3  Basically there's a family where a little boy ...  negative\n",
       "4  Petter Mattei's \"Love in the Time of Money\" is...  positive"
      ]
     },
     "execution_count": 6,
     "metadata": {},
     "output_type": "execute_result"
    }
   ],
   "source": [
    "df = pd.read_csv('/kaggle/input/imdb-dataset-of-50k-movie-reviews/IMDB Dataset.csv')\n",
    "df.head()"
   ]
  },
  {
   "cell_type": "code",
   "execution_count": 7,
   "metadata": {
    "editable": false,
    "execution": {
     "iopub.execute_input": "2025-02-17T20:04:46.955211Z",
     "iopub.status.busy": "2025-02-17T20:04:46.954916Z",
     "iopub.status.idle": "2025-02-17T20:04:46.983277Z",
     "shell.execute_reply": "2025-02-17T20:04:46.982548Z",
     "shell.execute_reply.started": "2025-02-17T20:04:46.955187Z"
    },
    "trusted": true
   },
   "outputs": [
    {
     "data": {
      "text/html": [
       "<div>\n",
       "<style scoped>\n",
       "    .dataframe tbody tr th:only-of-type {\n",
       "        vertical-align: middle;\n",
       "    }\n",
       "\n",
       "    .dataframe tbody tr th {\n",
       "        vertical-align: top;\n",
       "    }\n",
       "\n",
       "    .dataframe thead th {\n",
       "        text-align: right;\n",
       "    }\n",
       "</style>\n",
       "<table border=\"1\" class=\"dataframe\">\n",
       "  <thead>\n",
       "    <tr style=\"text-align: right;\">\n",
       "      <th></th>\n",
       "      <th>review</th>\n",
       "      <th>sentiment</th>\n",
       "      <th>Category</th>\n",
       "    </tr>\n",
       "  </thead>\n",
       "  <tbody>\n",
       "    <tr>\n",
       "      <th>0</th>\n",
       "      <td>One of the other reviewers has mentioned that ...</td>\n",
       "      <td>positive</td>\n",
       "      <td>1</td>\n",
       "    </tr>\n",
       "    <tr>\n",
       "      <th>1</th>\n",
       "      <td>A wonderful little production. &lt;br /&gt;&lt;br /&gt;The...</td>\n",
       "      <td>positive</td>\n",
       "      <td>1</td>\n",
       "    </tr>\n",
       "    <tr>\n",
       "      <th>2</th>\n",
       "      <td>I thought this was a wonderful way to spend ti...</td>\n",
       "      <td>positive</td>\n",
       "      <td>1</td>\n",
       "    </tr>\n",
       "    <tr>\n",
       "      <th>3</th>\n",
       "      <td>Basically there's a family where a little boy ...</td>\n",
       "      <td>negative</td>\n",
       "      <td>0</td>\n",
       "    </tr>\n",
       "    <tr>\n",
       "      <th>4</th>\n",
       "      <td>Petter Mattei's \"Love in the Time of Money\" is...</td>\n",
       "      <td>positive</td>\n",
       "      <td>1</td>\n",
       "    </tr>\n",
       "  </tbody>\n",
       "</table>\n",
       "</div>"
      ],
      "text/plain": [
       "                                              review sentiment  Category\n",
       "0  One of the other reviewers has mentioned that ...  positive         1\n",
       "1  A wonderful little production. <br /><br />The...  positive         1\n",
       "2  I thought this was a wonderful way to spend ti...  positive         1\n",
       "3  Basically there's a family where a little boy ...  negative         0\n",
       "4  Petter Mattei's \"Love in the Time of Money\" is...  positive         1"
      ]
     },
     "execution_count": 7,
     "metadata": {},
     "output_type": "execute_result"
    }
   ],
   "source": [
    "df['Category'] = df['sentiment'].apply(lambda x: 1 if x == 'positive' else 0)\n",
    "df.head()"
   ]
  },
  {
   "cell_type": "code",
   "execution_count": 8,
   "metadata": {
    "editable": false,
    "execution": {
     "iopub.execute_input": "2025-02-17T20:04:49.32481Z",
     "iopub.status.busy": "2025-02-17T20:04:49.324477Z",
     "iopub.status.idle": "2025-02-17T20:04:49.329689Z",
     "shell.execute_reply": "2025-02-17T20:04:49.329004Z",
     "shell.execute_reply.started": "2025-02-17T20:04:49.324781Z"
    },
    "trusted": true
   },
   "outputs": [
    {
     "data": {
      "text/plain": [
       "(50000, 3)"
      ]
     },
     "execution_count": 8,
     "metadata": {},
     "output_type": "execute_result"
    }
   ],
   "source": [
    "df.shape"
   ]
  },
  {
   "cell_type": "code",
   "execution_count": 9,
   "metadata": {
    "editable": false,
    "execution": {
     "iopub.execute_input": "2025-02-17T20:04:51.9875Z",
     "iopub.status.busy": "2025-02-17T20:04:51.987217Z",
     "iopub.status.idle": "2025-02-17T20:04:51.993636Z",
     "shell.execute_reply": "2025-02-17T20:04:51.992752Z",
     "shell.execute_reply.started": "2025-02-17T20:04:51.987478Z"
    },
    "trusted": true
   },
   "outputs": [],
   "source": [
    "df = df.rename(columns={\n",
    "    'review': 'text',\n",
    "    'Category': 'label'\n",
    "})\n"
   ]
  },
  {
   "cell_type": "code",
   "execution_count": 10,
   "metadata": {
    "editable": false,
    "execution": {
     "iopub.execute_input": "2025-02-17T20:04:54.109817Z",
     "iopub.status.busy": "2025-02-17T20:04:54.109466Z",
     "iopub.status.idle": "2025-02-17T20:04:54.121774Z",
     "shell.execute_reply": "2025-02-17T20:04:54.120932Z",
     "shell.execute_reply.started": "2025-02-17T20:04:54.109788Z"
    },
    "trusted": true
   },
   "outputs": [
    {
     "data": {
      "text/plain": [
       "label\n",
       "1    25000\n",
       "0    25000\n",
       "Name: count, dtype: int64"
      ]
     },
     "execution_count": 10,
     "metadata": {},
     "output_type": "execute_result"
    }
   ],
   "source": [
    "df.label.value_counts()"
   ]
  },
  {
   "cell_type": "code",
   "execution_count": 11,
   "metadata": {
    "editable": false,
    "execution": {
     "iopub.execute_input": "2025-02-17T20:04:56.282606Z",
     "iopub.status.busy": "2025-02-17T20:04:56.282211Z",
     "iopub.status.idle": "2025-02-17T20:04:56.976219Z",
     "shell.execute_reply": "2025-02-17T20:04:56.975538Z",
     "shell.execute_reply.started": "2025-02-17T20:04:56.28257Z"
    },
    "trusted": true
   },
   "outputs": [],
   "source": [
    "from sklearn.model_selection import train_test_split"
   ]
  },
  {
   "cell_type": "code",
   "execution_count": 12,
   "metadata": {
    "editable": false,
    "execution": {
     "iopub.execute_input": "2025-02-17T20:04:59.218571Z",
     "iopub.status.busy": "2025-02-17T20:04:59.217874Z",
     "iopub.status.idle": "2025-02-17T20:04:59.243641Z",
     "shell.execute_reply": "2025-02-17T20:04:59.242859Z",
     "shell.execute_reply.started": "2025-02-17T20:04:59.218528Z"
    },
    "trusted": true
   },
   "outputs": [],
   "source": [
    "X_train, X_test = train_test_split(df, test_size = 0.2)\n",
    "X_train, X_val = train_test_split(X_train, test_size = 0.2) "
   ]
  },
  {
   "cell_type": "code",
   "execution_count": 13,
   "metadata": {
    "editable": false,
    "execution": {
     "iopub.execute_input": "2025-02-17T20:05:01.357253Z",
     "iopub.status.busy": "2025-02-17T20:05:01.356828Z",
     "iopub.status.idle": "2025-02-17T20:05:01.363378Z",
     "shell.execute_reply": "2025-02-17T20:05:01.362565Z",
     "shell.execute_reply.started": "2025-02-17T20:05:01.357223Z"
    },
    "trusted": true
   },
   "outputs": [
    {
     "name": "stdout",
     "output_type": "stream",
     "text": [
      "                                                    text sentiment  label\n",
      "26714  I'm a big mark for the music of Neil Young, an...  negative      0\n",
      "40305  Stay Alive, Stay Alive, Stay Alive, I am calle...  negative      0\n",
      "47420  The worst part of all is the poor scripting, l...  negative      0\n",
      "34993  He who fights with monsters might take care le...  negative      0\n",
      "29509  This movie catches a lot of flak, but this is ...  positive      1\n"
     ]
    }
   ],
   "source": [
    "print(X_train.head())"
   ]
  },
  {
   "cell_type": "code",
   "execution_count": 14,
   "metadata": {
    "editable": false,
    "execution": {
     "iopub.execute_input": "2025-02-17T20:05:03.822581Z",
     "iopub.status.busy": "2025-02-17T20:05:03.822302Z",
     "iopub.status.idle": "2025-02-17T20:05:04.631467Z",
     "shell.execute_reply": "2025-02-17T20:05:04.630837Z",
     "shell.execute_reply.started": "2025-02-17T20:05:03.822558Z"
    },
    "trusted": true
   },
   "outputs": [],
   "source": [
    "from datasets import Dataset"
   ]
  },
  {
   "cell_type": "code",
   "execution_count": 15,
   "metadata": {
    "editable": false,
    "execution": {
     "iopub.execute_input": "2025-02-17T20:05:06.395732Z",
     "iopub.status.busy": "2025-02-17T20:05:06.395191Z",
     "iopub.status.idle": "2025-02-17T20:05:07.005074Z",
     "shell.execute_reply": "2025-02-17T20:05:07.004374Z",
     "shell.execute_reply.started": "2025-02-17T20:05:06.395703Z"
    },
    "trusted": true
   },
   "outputs": [],
   "source": [
    "train_ds = Dataset.from_pandas(X_train, split=\"train\")\n",
    "val_ds = Dataset.from_pandas(X_val, split = 'test')\n",
    "test_ds = Dataset.from_pandas(X_test, split=\"test\")"
   ]
  },
  {
   "cell_type": "code",
   "execution_count": 16,
   "metadata": {
    "editable": false,
    "execution": {
     "iopub.execute_input": "2025-02-17T20:05:09.335854Z",
     "iopub.status.busy": "2025-02-17T20:05:09.335522Z",
     "iopub.status.idle": "2025-02-17T20:05:09.340613Z",
     "shell.execute_reply": "2025-02-17T20:05:09.339892Z",
     "shell.execute_reply.started": "2025-02-17T20:05:09.335825Z"
    },
    "trusted": true
   },
   "outputs": [
    {
     "data": {
      "text/plain": [
       "Dataset({\n",
       "    features: ['text', 'sentiment', 'label', '__index_level_0__'],\n",
       "    num_rows: 32000\n",
       "})"
      ]
     },
     "execution_count": 16,
     "metadata": {},
     "output_type": "execute_result"
    }
   ],
   "source": [
    "train_ds"
   ]
  },
  {
   "cell_type": "code",
   "execution_count": null,
   "metadata": {},
   "outputs": [],
   "source": [
    "\n"
   ]
  },
  {
   "cell_type": "code",
   "execution_count": 17,
   "metadata": {},
   "outputs": [
    {
     "name": "stdout",
     "output_type": "stream",
     "text": [
      "Note: you may need to restart the kernel to use updated packages.\n"
     ]
    }
   ],
   "source": [
    "# Install latest transformers and set environment variables\n",
    "%pip install -U transformers -q\n",
    "\n",
    "# Set environment variable to suppress warnings\n",
    "import os\n",
    "os.environ[\"HF_HUB_DISABLE_EXPERIMENTAL_WARNING\"] = \"1\"\n"
   ]
  },
  {
   "cell_type": "code",
   "execution_count": null,
   "metadata": {},
   "outputs": [],
   "source": [
    "\n"
   ]
  },
  {
   "cell_type": "code",
   "execution_count": 18,
   "metadata": {},
   "outputs": [],
   "source": [
    "# Suppress warnings and errors for chat templates\n",
    "import warnings\n",
    "warnings.filterwarnings(\"ignore\", message=\".*additional_chat_templates.*\")\n",
    "warnings.filterwarnings(\"ignore\", message=\".*404 Client Error.*\")\n"
   ]
  },
  {
   "cell_type": "code",
   "execution_count": 19,
   "metadata": {
    "editable": false,
    "execution": {
     "iopub.execute_input": "2025-02-17T20:05:11.661484Z",
     "iopub.status.busy": "2025-02-17T20:05:11.661061Z",
     "iopub.status.idle": "2025-02-17T20:05:17.912546Z",
     "shell.execute_reply": "2025-02-17T20:05:17.911791Z",
     "shell.execute_reply.started": "2025-02-17T20:05:11.661448Z"
    },
    "trusted": true
   },
   "outputs": [],
   "source": [
    "from transformers import AutoTokenizer"
   ]
  },
  {
   "cell_type": "code",
   "execution_count": 20,
   "metadata": {
    "editable": false,
    "execution": {
     "iopub.execute_input": "2025-02-17T20:05:25.86888Z",
     "iopub.status.busy": "2025-02-17T20:05:25.868281Z",
     "iopub.status.idle": "2025-02-17T20:05:26.719019Z",
     "shell.execute_reply": "2025-02-17T20:05:26.718323Z",
     "shell.execute_reply.started": "2025-02-17T20:05:25.868849Z"
    },
    "trusted": true
   },
   "outputs": [],
   "source": [
    "# Try loading tokenizer with error handling for chat templates issue\n",
    "try:\n",
    "    tokenizer = AutoTokenizer.from_pretrained(\"distilbert-base-uncased\")\n",
    "except Exception as e:\n",
    "    if \"404\" in str(e) and \"additional_chat_templates\" in str(e):\n",
    "        # If chat template error, try with use_fast=False\n",
    "        tokenizer = AutoTokenizer.from_pretrained(\"distilbert-base-uncased\", use_fast=False)\n",
    "    else:\n",
    "        raise"
   ]
  },
  {
   "cell_type": "code",
   "execution_count": 21,
   "metadata": {
    "editable": false,
    "execution": {
     "iopub.execute_input": "2025-02-17T20:05:29.266192Z",
     "iopub.status.busy": "2025-02-17T20:05:29.265882Z",
     "iopub.status.idle": "2025-02-17T20:05:29.270263Z",
     "shell.execute_reply": "2025-02-17T20:05:29.269299Z",
     "shell.execute_reply.started": "2025-02-17T20:05:29.266167Z"
    },
    "trusted": true
   },
   "outputs": [],
   "source": [
    "def preprocess_function(examples):\n",
    "    return tokenizer(examples[\"text\"], truncation=True)"
   ]
  },
  {
   "cell_type": "code",
   "execution_count": 22,
   "metadata": {
    "editable": false,
    "execution": {
     "iopub.execute_input": "2025-02-17T20:05:31.297883Z",
     "iopub.status.busy": "2025-02-17T20:05:31.297553Z",
     "iopub.status.idle": "2025-02-17T20:05:53.549794Z",
     "shell.execute_reply": "2025-02-17T20:05:53.549044Z",
     "shell.execute_reply.started": "2025-02-17T20:05:31.297854Z"
    },
    "trusted": true
   },
   "outputs": [
    {
     "data": {
      "application/vnd.jupyter.widget-view+json": {
       "model_id": "d5233fb8340f4903ad7042f448620783",
       "version_major": 2,
       "version_minor": 0
      },
      "text/plain": [
       "Map:   0%|          | 0/32000 [00:00<?, ? examples/s]"
      ]
     },
     "metadata": {},
     "output_type": "display_data"
    },
    {
     "data": {
      "application/vnd.jupyter.widget-view+json": {
       "model_id": "5f3a2d74d71a4a23b97b057b3c9ac804",
       "version_major": 2,
       "version_minor": 0
      },
      "text/plain": [
       "Map:   0%|          | 0/8000 [00:00<?, ? examples/s]"
      ]
     },
     "metadata": {},
     "output_type": "display_data"
    },
    {
     "data": {
      "application/vnd.jupyter.widget-view+json": {
       "model_id": "599de60ddcbe49dd92b1cf7bd62de645",
       "version_major": 2,
       "version_minor": 0
      },
      "text/plain": [
       "Map:   0%|          | 0/10000 [00:00<?, ? examples/s]"
      ]
     },
     "metadata": {},
     "output_type": "display_data"
    }
   ],
   "source": [
    "tokenized_train = train_ds.map(preprocess_function, batched=True)\n",
    "tokenized_val = val_ds.map(preprocess_function, batched=True)\n",
    "tokenized_test = test_ds.map(preprocess_function, batched=True)\n"
   ]
  },
  {
   "cell_type": "code",
   "execution_count": 23,
   "metadata": {
    "editable": false,
    "execution": {
     "iopub.execute_input": "2025-02-17T20:05:56.358008Z",
     "iopub.status.busy": "2025-02-17T20:05:56.357718Z",
     "iopub.status.idle": "2025-02-17T20:05:56.36745Z",
     "shell.execute_reply": "2025-02-17T20:05:56.366757Z",
     "shell.execute_reply.started": "2025-02-17T20:05:56.357986Z"
    },
    "trusted": true
   },
   "outputs": [
    {
     "data": {
      "text/plain": [
       "{'text': 'I\\'m a big mark for the music of Neil Young, and with that and the glowing praise the film received in many alt-indie press circles, hit the first showing of Greendale I could find. My excitement was short-lived, as this turgid storyline and weak lyrical momentum left most filmgoers either asleep or disappointed.<br /><br />Neil says the film started as a soundtrack, and the characters came to life so much that they just filmed the soundtrack. Not the best way to craft a story. No character really has an arc, and when \"significant\" events do happen, the viewer doesn\\'t cared, because film technique annoyance levels are so high by that point. The film is all song, and to that end, the characters on end mouth the lyrics as they\\'re sung...the technique works for the first stanza it is done, and is grating on the nerves after that. It doesn\\'t feel real or fake, it just feels unwelcome.<br /><br />Terrible acting, with characters finding one mood and playing all of it. Poor lighting at times. The only kudos I can give the film are in regard to several scenes shot as newscast, but the technique is so used in cinema today that this film did little to further it. An alright soundtrack, but nothing I\\'m quick to buy. A bad film.',\n",
       " 'sentiment': 'negative',\n",
       " 'label': 0,\n",
       " '__index_level_0__': 26714,\n",
       " 'input_ids': [101,\n",
       "  1045,\n",
       "  1005,\n",
       "  1049,\n",
       "  1037,\n",
       "  2502,\n",
       "  2928,\n",
       "  2005,\n",
       "  1996,\n",
       "  2189,\n",
       "  1997,\n",
       "  6606,\n",
       "  2402,\n",
       "  1010,\n",
       "  1998,\n",
       "  2007,\n",
       "  2008,\n",
       "  1998,\n",
       "  1996,\n",
       "  10156,\n",
       "  8489,\n",
       "  1996,\n",
       "  2143,\n",
       "  2363,\n",
       "  1999,\n",
       "  2116,\n",
       "  12456,\n",
       "  1011,\n",
       "  10271,\n",
       "  2811,\n",
       "  7925,\n",
       "  1010,\n",
       "  2718,\n",
       "  1996,\n",
       "  2034,\n",
       "  4760,\n",
       "  1997,\n",
       "  2665,\n",
       "  5634,\n",
       "  1045,\n",
       "  2071,\n",
       "  2424,\n",
       "  1012,\n",
       "  2026,\n",
       "  8277,\n",
       "  2001,\n",
       "  2460,\n",
       "  1011,\n",
       "  2973,\n",
       "  1010,\n",
       "  2004,\n",
       "  2023,\n",
       "  10722,\n",
       "  10623,\n",
       "  3593,\n",
       "  9994,\n",
       "  1998,\n",
       "  5410,\n",
       "  16376,\n",
       "  11071,\n",
       "  2187,\n",
       "  2087,\n",
       "  2143,\n",
       "  3995,\n",
       "  2545,\n",
       "  2593,\n",
       "  6680,\n",
       "  2030,\n",
       "  9364,\n",
       "  1012,\n",
       "  1026,\n",
       "  7987,\n",
       "  1013,\n",
       "  1028,\n",
       "  1026,\n",
       "  7987,\n",
       "  1013,\n",
       "  1028,\n",
       "  6606,\n",
       "  2758,\n",
       "  1996,\n",
       "  2143,\n",
       "  2318,\n",
       "  2004,\n",
       "  1037,\n",
       "  6050,\n",
       "  1010,\n",
       "  1998,\n",
       "  1996,\n",
       "  3494,\n",
       "  2234,\n",
       "  2000,\n",
       "  2166,\n",
       "  2061,\n",
       "  2172,\n",
       "  2008,\n",
       "  2027,\n",
       "  2074,\n",
       "  6361,\n",
       "  1996,\n",
       "  6050,\n",
       "  1012,\n",
       "  2025,\n",
       "  1996,\n",
       "  2190,\n",
       "  2126,\n",
       "  2000,\n",
       "  7477,\n",
       "  1037,\n",
       "  2466,\n",
       "  1012,\n",
       "  2053,\n",
       "  2839,\n",
       "  2428,\n",
       "  2038,\n",
       "  2019,\n",
       "  8115,\n",
       "  1010,\n",
       "  1998,\n",
       "  2043,\n",
       "  1000,\n",
       "  3278,\n",
       "  1000,\n",
       "  2824,\n",
       "  2079,\n",
       "  4148,\n",
       "  1010,\n",
       "  1996,\n",
       "  13972,\n",
       "  2987,\n",
       "  1005,\n",
       "  1056,\n",
       "  8725,\n",
       "  1010,\n",
       "  2138,\n",
       "  2143,\n",
       "  6028,\n",
       "  17466,\n",
       "  3798,\n",
       "  2024,\n",
       "  2061,\n",
       "  2152,\n",
       "  2011,\n",
       "  2008,\n",
       "  2391,\n",
       "  1012,\n",
       "  1996,\n",
       "  2143,\n",
       "  2003,\n",
       "  2035,\n",
       "  2299,\n",
       "  1010,\n",
       "  1998,\n",
       "  2000,\n",
       "  2008,\n",
       "  2203,\n",
       "  1010,\n",
       "  1996,\n",
       "  3494,\n",
       "  2006,\n",
       "  2203,\n",
       "  2677,\n",
       "  1996,\n",
       "  4581,\n",
       "  2004,\n",
       "  2027,\n",
       "  1005,\n",
       "  2128,\n",
       "  7042,\n",
       "  1012,\n",
       "  1012,\n",
       "  1012,\n",
       "  1996,\n",
       "  6028,\n",
       "  2573,\n",
       "  2005,\n",
       "  1996,\n",
       "  2034,\n",
       "  29509,\n",
       "  2009,\n",
       "  2003,\n",
       "  2589,\n",
       "  1010,\n",
       "  1998,\n",
       "  2003,\n",
       "  24665,\n",
       "  5844,\n",
       "  2006,\n",
       "  1996,\n",
       "  10627,\n",
       "  2044,\n",
       "  2008,\n",
       "  1012,\n",
       "  2009,\n",
       "  2987,\n",
       "  1005,\n",
       "  1056,\n",
       "  2514,\n",
       "  2613,\n",
       "  2030,\n",
       "  8275,\n",
       "  1010,\n",
       "  2009,\n",
       "  2074,\n",
       "  5683,\n",
       "  4895,\n",
       "  8545,\n",
       "  22499,\n",
       "  4168,\n",
       "  1012,\n",
       "  1026,\n",
       "  7987,\n",
       "  1013,\n",
       "  1028,\n",
       "  1026,\n",
       "  7987,\n",
       "  1013,\n",
       "  1028,\n",
       "  6659,\n",
       "  3772,\n",
       "  1010,\n",
       "  2007,\n",
       "  3494,\n",
       "  4531,\n",
       "  2028,\n",
       "  6888,\n",
       "  1998,\n",
       "  2652,\n",
       "  2035,\n",
       "  1997,\n",
       "  2009,\n",
       "  1012,\n",
       "  3532,\n",
       "  7497,\n",
       "  2012,\n",
       "  2335,\n",
       "  1012,\n",
       "  1996,\n",
       "  2069,\n",
       "  13970,\n",
       "  12269,\n",
       "  1045,\n",
       "  2064,\n",
       "  2507,\n",
       "  1996,\n",
       "  2143,\n",
       "  2024,\n",
       "  1999,\n",
       "  7634,\n",
       "  2000,\n",
       "  2195,\n",
       "  5019,\n",
       "  2915,\n",
       "  2004,\n",
       "  20306,\n",
       "  1010,\n",
       "  2021,\n",
       "  1996,\n",
       "  6028,\n",
       "  2003,\n",
       "  2061,\n",
       "  2109,\n",
       "  1999,\n",
       "  5988,\n",
       "  2651,\n",
       "  2008,\n",
       "  2023,\n",
       "  2143,\n",
       "  2106,\n",
       "  2210,\n",
       "  2000,\n",
       "  2582,\n",
       "  2009,\n",
       "  1012,\n",
       "  2019,\n",
       "  10303,\n",
       "  6050,\n",
       "  1010,\n",
       "  2021,\n",
       "  2498,\n",
       "  1045,\n",
       "  1005,\n",
       "  1049,\n",
       "  4248,\n",
       "  2000,\n",
       "  4965,\n",
       "  1012,\n",
       "  1037,\n",
       "  2919,\n",
       "  2143,\n",
       "  1012,\n",
       "  102],\n",
       " 'attention_mask': [1,\n",
       "  1,\n",
       "  1,\n",
       "  1,\n",
       "  1,\n",
       "  1,\n",
       "  1,\n",
       "  1,\n",
       "  1,\n",
       "  1,\n",
       "  1,\n",
       "  1,\n",
       "  1,\n",
       "  1,\n",
       "  1,\n",
       "  1,\n",
       "  1,\n",
       "  1,\n",
       "  1,\n",
       "  1,\n",
       "  1,\n",
       "  1,\n",
       "  1,\n",
       "  1,\n",
       "  1,\n",
       "  1,\n",
       "  1,\n",
       "  1,\n",
       "  1,\n",
       "  1,\n",
       "  1,\n",
       "  1,\n",
       "  1,\n",
       "  1,\n",
       "  1,\n",
       "  1,\n",
       "  1,\n",
       "  1,\n",
       "  1,\n",
       "  1,\n",
       "  1,\n",
       "  1,\n",
       "  1,\n",
       "  1,\n",
       "  1,\n",
       "  1,\n",
       "  1,\n",
       "  1,\n",
       "  1,\n",
       "  1,\n",
       "  1,\n",
       "  1,\n",
       "  1,\n",
       "  1,\n",
       "  1,\n",
       "  1,\n",
       "  1,\n",
       "  1,\n",
       "  1,\n",
       "  1,\n",
       "  1,\n",
       "  1,\n",
       "  1,\n",
       "  1,\n",
       "  1,\n",
       "  1,\n",
       "  1,\n",
       "  1,\n",
       "  1,\n",
       "  1,\n",
       "  1,\n",
       "  1,\n",
       "  1,\n",
       "  1,\n",
       "  1,\n",
       "  1,\n",
       "  1,\n",
       "  1,\n",
       "  1,\n",
       "  1,\n",
       "  1,\n",
       "  1,\n",
       "  1,\n",
       "  1,\n",
       "  1,\n",
       "  1,\n",
       "  1,\n",
       "  1,\n",
       "  1,\n",
       "  1,\n",
       "  1,\n",
       "  1,\n",
       "  1,\n",
       "  1,\n",
       "  1,\n",
       "  1,\n",
       "  1,\n",
       "  1,\n",
       "  1,\n",
       "  1,\n",
       "  1,\n",
       "  1,\n",
       "  1,\n",
       "  1,\n",
       "  1,\n",
       "  1,\n",
       "  1,\n",
       "  1,\n",
       "  1,\n",
       "  1,\n",
       "  1,\n",
       "  1,\n",
       "  1,\n",
       "  1,\n",
       "  1,\n",
       "  1,\n",
       "  1,\n",
       "  1,\n",
       "  1,\n",
       "  1,\n",
       "  1,\n",
       "  1,\n",
       "  1,\n",
       "  1,\n",
       "  1,\n",
       "  1,\n",
       "  1,\n",
       "  1,\n",
       "  1,\n",
       "  1,\n",
       "  1,\n",
       "  1,\n",
       "  1,\n",
       "  1,\n",
       "  1,\n",
       "  1,\n",
       "  1,\n",
       "  1,\n",
       "  1,\n",
       "  1,\n",
       "  1,\n",
       "  1,\n",
       "  1,\n",
       "  1,\n",
       "  1,\n",
       "  1,\n",
       "  1,\n",
       "  1,\n",
       "  1,\n",
       "  1,\n",
       "  1,\n",
       "  1,\n",
       "  1,\n",
       "  1,\n",
       "  1,\n",
       "  1,\n",
       "  1,\n",
       "  1,\n",
       "  1,\n",
       "  1,\n",
       "  1,\n",
       "  1,\n",
       "  1,\n",
       "  1,\n",
       "  1,\n",
       "  1,\n",
       "  1,\n",
       "  1,\n",
       "  1,\n",
       "  1,\n",
       "  1,\n",
       "  1,\n",
       "  1,\n",
       "  1,\n",
       "  1,\n",
       "  1,\n",
       "  1,\n",
       "  1,\n",
       "  1,\n",
       "  1,\n",
       "  1,\n",
       "  1,\n",
       "  1,\n",
       "  1,\n",
       "  1,\n",
       "  1,\n",
       "  1,\n",
       "  1,\n",
       "  1,\n",
       "  1,\n",
       "  1,\n",
       "  1,\n",
       "  1,\n",
       "  1,\n",
       "  1,\n",
       "  1,\n",
       "  1,\n",
       "  1,\n",
       "  1,\n",
       "  1,\n",
       "  1,\n",
       "  1,\n",
       "  1,\n",
       "  1,\n",
       "  1,\n",
       "  1,\n",
       "  1,\n",
       "  1,\n",
       "  1,\n",
       "  1,\n",
       "  1,\n",
       "  1,\n",
       "  1,\n",
       "  1,\n",
       "  1,\n",
       "  1,\n",
       "  1,\n",
       "  1,\n",
       "  1,\n",
       "  1,\n",
       "  1,\n",
       "  1,\n",
       "  1,\n",
       "  1,\n",
       "  1,\n",
       "  1,\n",
       "  1,\n",
       "  1,\n",
       "  1,\n",
       "  1,\n",
       "  1,\n",
       "  1,\n",
       "  1,\n",
       "  1,\n",
       "  1,\n",
       "  1,\n",
       "  1,\n",
       "  1,\n",
       "  1,\n",
       "  1,\n",
       "  1,\n",
       "  1,\n",
       "  1,\n",
       "  1,\n",
       "  1,\n",
       "  1,\n",
       "  1,\n",
       "  1,\n",
       "  1,\n",
       "  1,\n",
       "  1,\n",
       "  1,\n",
       "  1,\n",
       "  1,\n",
       "  1,\n",
       "  1,\n",
       "  1,\n",
       "  1,\n",
       "  1,\n",
       "  1,\n",
       "  1,\n",
       "  1,\n",
       "  1,\n",
       "  1,\n",
       "  1,\n",
       "  1,\n",
       "  1,\n",
       "  1,\n",
       "  1,\n",
       "  1,\n",
       "  1,\n",
       "  1,\n",
       "  1,\n",
       "  1,\n",
       "  1,\n",
       "  1,\n",
       "  1,\n",
       "  1,\n",
       "  1,\n",
       "  1,\n",
       "  1,\n",
       "  1,\n",
       "  1,\n",
       "  1,\n",
       "  1,\n",
       "  1,\n",
       "  1,\n",
       "  1,\n",
       "  1,\n",
       "  1,\n",
       "  1,\n",
       "  1]}"
      ]
     },
     "execution_count": 23,
     "metadata": {},
     "output_type": "execute_result"
    }
   ],
   "source": [
    "tokenized_train[0]"
   ]
  },
  {
   "cell_type": "code",
   "execution_count": 24,
   "metadata": {
    "editable": false,
    "execution": {
     "iopub.execute_input": "2025-02-17T20:06:03.112455Z",
     "iopub.status.busy": "2025-02-17T20:06:03.112169Z",
     "iopub.status.idle": "2025-02-17T20:06:13.739045Z",
     "shell.execute_reply": "2025-02-17T20:06:13.73812Z",
     "shell.execute_reply.started": "2025-02-17T20:06:03.112433Z"
    },
    "trusted": true
   },
   "outputs": [
    {
     "name": "stderr",
     "output_type": "stream",
     "text": [
      "2025-10-24 02:23:35.065320: E external/local_xla/xla/stream_executor/cuda/cuda_fft.cc:477] Unable to register cuFFT factory: Attempting to register factory for plugin cuFFT when one has already been registered\n",
      "WARNING: All log messages before absl::InitializeLog() is called are written to STDERR\n",
      "E0000 00:00:1761272615.084209   16595 cuda_dnn.cc:8310] Unable to register cuDNN factory: Attempting to register factory for plugin cuDNN when one has already been registered\n",
      "E0000 00:00:1761272615.090897   16595 cuda_blas.cc:1418] Unable to register cuBLAS factory: Attempting to register factory for plugin cuBLAS when one has already been registered\n"
     ]
    }
   ],
   "source": [
    "from transformers import DataCollatorWithPadding"
   ]
  },
  {
   "cell_type": "code",
   "execution_count": 25,
   "metadata": {
    "editable": false,
    "execution": {
     "iopub.execute_input": "2025-02-17T20:06:36.274043Z",
     "iopub.status.busy": "2025-02-17T20:06:36.27286Z",
     "iopub.status.idle": "2025-02-17T20:06:36.279066Z",
     "shell.execute_reply": "2025-02-17T20:06:36.277823Z",
     "shell.execute_reply.started": "2025-02-17T20:06:36.27399Z"
    },
    "trusted": true
   },
   "outputs": [],
   "source": [
    "data_collator = DataCollatorWithPadding(tokenizer=tokenizer)"
   ]
  },
  {
   "cell_type": "code",
   "execution_count": 26,
   "metadata": {
    "editable": false,
    "execution": {
     "iopub.execute_input": "2025-02-17T20:06:38.695531Z",
     "iopub.status.busy": "2025-02-17T20:06:38.695239Z",
     "iopub.status.idle": "2025-02-17T20:06:43.130495Z",
     "shell.execute_reply": "2025-02-17T20:06:43.129567Z",
     "shell.execute_reply.started": "2025-02-17T20:06:38.695509Z"
    },
    "trusted": true
   },
   "outputs": [
    {
     "name": "stderr",
     "output_type": "stream",
     "text": [
      "huggingface/tokenizers: The current process just got forked, after parallelism has already been used. Disabling parallelism to avoid deadlocks...\n",
      "To disable this warning, you can either:\n",
      "\t- Avoid using `tokenizers` before the fork if possible\n",
      "\t- Explicitly set the environment variable TOKENIZERS_PARALLELISM=(true | false)\n"
     ]
    },
    {
     "name": "stdout",
     "output_type": "stream",
     "text": [
      "Requirement already satisfied: evaluate in /usr/local/lib/python3.11/dist-packages (0.4.6)\n",
      "Requirement already satisfied: datasets>=2.0.0 in /usr/local/lib/python3.11/dist-packages (from evaluate) (4.1.1)\n",
      "Requirement already satisfied: numpy>=1.17 in /usr/local/lib/python3.11/dist-packages (from evaluate) (1.26.4)\n",
      "Requirement already satisfied: dill in /usr/local/lib/python3.11/dist-packages (from evaluate) (0.4.0)\n",
      "Requirement already satisfied: pandas in /usr/local/lib/python3.11/dist-packages (from evaluate) (2.2.3)\n",
      "Requirement already satisfied: requests>=2.19.0 in /usr/local/lib/python3.11/dist-packages (from evaluate) (2.32.5)\n",
      "Requirement already satisfied: tqdm>=4.62.1 in /usr/local/lib/python3.11/dist-packages (from evaluate) (4.67.1)\n",
      "Requirement already satisfied: xxhash in /usr/local/lib/python3.11/dist-packages (from evaluate) (3.5.0)\n",
      "Requirement already satisfied: multiprocess in /usr/local/lib/python3.11/dist-packages (from evaluate) (0.70.16)\n",
      "Requirement already satisfied: fsspec>=2021.05.0 in /usr/local/lib/python3.11/dist-packages (from fsspec[http]>=2021.05.0->evaluate) (2025.9.0)\n",
      "Requirement already satisfied: huggingface-hub>=0.7.0 in /usr/local/lib/python3.11/dist-packages (from evaluate) (0.36.0)\n",
      "Requirement already satisfied: packaging in /usr/local/lib/python3.11/dist-packages (from evaluate) (25.0)\n",
      "Requirement already satisfied: filelock in /usr/local/lib/python3.11/dist-packages (from datasets>=2.0.0->evaluate) (3.19.1)\n",
      "Requirement already satisfied: pyarrow>=21.0.0 in /usr/local/lib/python3.11/dist-packages (from datasets>=2.0.0->evaluate) (21.0.0)\n",
      "Requirement already satisfied: pyyaml>=5.1 in /usr/local/lib/python3.11/dist-packages (from datasets>=2.0.0->evaluate) (6.0.3)\n",
      "Requirement already satisfied: aiohttp!=4.0.0a0,!=4.0.0a1 in /usr/local/lib/python3.11/dist-packages (from fsspec[http]>=2021.05.0->evaluate) (3.12.15)\n",
      "Requirement already satisfied: typing-extensions>=3.7.4.3 in /usr/local/lib/python3.11/dist-packages (from huggingface-hub>=0.7.0->evaluate) (4.15.0)\n",
      "Requirement already satisfied: hf-xet<2.0.0,>=1.1.3 in /usr/local/lib/python3.11/dist-packages (from huggingface-hub>=0.7.0->evaluate) (1.1.10)\n",
      "Requirement already satisfied: mkl_fft in /usr/local/lib/python3.11/dist-packages (from numpy>=1.17->evaluate) (1.3.8)\n",
      "Requirement already satisfied: mkl_random in /usr/local/lib/python3.11/dist-packages (from numpy>=1.17->evaluate) (1.2.4)\n",
      "Requirement already satisfied: mkl_umath in /usr/local/lib/python3.11/dist-packages (from numpy>=1.17->evaluate) (0.1.1)\n",
      "Requirement already satisfied: mkl in /usr/local/lib/python3.11/dist-packages (from numpy>=1.17->evaluate) (2025.2.0)\n",
      "Requirement already satisfied: tbb4py in /usr/local/lib/python3.11/dist-packages (from numpy>=1.17->evaluate) (2022.2.0)\n",
      "Requirement already satisfied: mkl-service in /usr/local/lib/python3.11/dist-packages (from numpy>=1.17->evaluate) (2.4.1)\n",
      "Requirement already satisfied: charset_normalizer<4,>=2 in /usr/local/lib/python3.11/dist-packages (from requests>=2.19.0->evaluate) (3.4.3)\n",
      "Requirement already satisfied: idna<4,>=2.5 in /usr/local/lib/python3.11/dist-packages (from requests>=2.19.0->evaluate) (3.10)\n",
      "Requirement already satisfied: urllib3<3,>=1.21.1 in /usr/local/lib/python3.11/dist-packages (from requests>=2.19.0->evaluate) (2.5.0)\n",
      "Requirement already satisfied: certifi>=2017.4.17 in /usr/local/lib/python3.11/dist-packages (from requests>=2.19.0->evaluate) (2025.8.3)\n",
      "Requirement already satisfied: python-dateutil>=2.8.2 in /usr/local/lib/python3.11/dist-packages (from pandas->evaluate) (2.9.0.post0)\n",
      "Requirement already satisfied: pytz>=2020.1 in /usr/local/lib/python3.11/dist-packages (from pandas->evaluate) (2025.2)\n",
      "Requirement already satisfied: tzdata>=2022.7 in /usr/local/lib/python3.11/dist-packages (from pandas->evaluate) (2025.2)\n",
      "Requirement already satisfied: aiohappyeyeballs>=2.5.0 in /usr/local/lib/python3.11/dist-packages (from aiohttp!=4.0.0a0,!=4.0.0a1->fsspec[http]>=2021.05.0->evaluate) (2.6.1)\n",
      "Requirement already satisfied: aiosignal>=1.4.0 in /usr/local/lib/python3.11/dist-packages (from aiohttp!=4.0.0a0,!=4.0.0a1->fsspec[http]>=2021.05.0->evaluate) (1.4.0)\n",
      "Requirement already satisfied: attrs>=17.3.0 in /usr/local/lib/python3.11/dist-packages (from aiohttp!=4.0.0a0,!=4.0.0a1->fsspec[http]>=2021.05.0->evaluate) (25.3.0)\n",
      "Requirement already satisfied: frozenlist>=1.1.1 in /usr/local/lib/python3.11/dist-packages (from aiohttp!=4.0.0a0,!=4.0.0a1->fsspec[http]>=2021.05.0->evaluate) (1.7.0)\n",
      "Requirement already satisfied: multidict<7.0,>=4.5 in /usr/local/lib/python3.11/dist-packages (from aiohttp!=4.0.0a0,!=4.0.0a1->fsspec[http]>=2021.05.0->evaluate) (6.6.4)\n",
      "Requirement already satisfied: propcache>=0.2.0 in /usr/local/lib/python3.11/dist-packages (from aiohttp!=4.0.0a0,!=4.0.0a1->fsspec[http]>=2021.05.0->evaluate) (0.3.2)\n",
      "Requirement already satisfied: yarl<2.0,>=1.17.0 in /usr/local/lib/python3.11/dist-packages (from aiohttp!=4.0.0a0,!=4.0.0a1->fsspec[http]>=2021.05.0->evaluate) (1.20.1)\n",
      "Requirement already satisfied: six>=1.5 in /usr/local/lib/python3.11/dist-packages (from python-dateutil>=2.8.2->pandas->evaluate) (1.17.0)\n",
      "Requirement already satisfied: intel-openmp<2026,>=2024 in /usr/local/lib/python3.11/dist-packages (from mkl->numpy>=1.17->evaluate) (2024.2.0)\n",
      "Requirement already satisfied: tbb==2022.* in /usr/local/lib/python3.11/dist-packages (from mkl->numpy>=1.17->evaluate) (2022.2.0)\n",
      "Requirement already satisfied: tcmlib==1.* in /usr/local/lib/python3.11/dist-packages (from tbb==2022.*->mkl->numpy>=1.17->evaluate) (1.4.0)\n",
      "Requirement already satisfied: intel-cmplr-lib-rt in /usr/local/lib/python3.11/dist-packages (from mkl_umath->numpy>=1.17->evaluate) (2024.2.0)\n",
      "Requirement already satisfied: intel-cmplr-lib-ur==2024.2.0 in /usr/local/lib/python3.11/dist-packages (from intel-openmp<2026,>=2024->mkl->numpy>=1.17->evaluate) (2024.2.0)\n"
     ]
    }
   ],
   "source": [
    "!pip install evaluate"
   ]
  },
  {
   "cell_type": "code",
   "execution_count": 27,
   "metadata": {
    "editable": false,
    "execution": {
     "iopub.execute_input": "2025-02-17T20:06:45.470869Z",
     "iopub.status.busy": "2025-02-17T20:06:45.470512Z",
     "iopub.status.idle": "2025-02-17T20:06:46.730735Z",
     "shell.execute_reply": "2025-02-17T20:06:46.730033Z",
     "shell.execute_reply.started": "2025-02-17T20:06:45.470835Z"
    },
    "trusted": true
   },
   "outputs": [],
   "source": [
    "import evaluate\n",
    "import numpy as np"
   ]
  },
  {
   "cell_type": "code",
   "execution_count": 28,
   "metadata": {
    "editable": false,
    "execution": {
     "iopub.execute_input": "2025-02-17T20:07:05.265089Z",
     "iopub.status.busy": "2025-02-17T20:07:05.264546Z",
     "iopub.status.idle": "2025-02-17T20:07:05.6795Z",
     "shell.execute_reply": "2025-02-17T20:07:05.678897Z",
     "shell.execute_reply.started": "2025-02-17T20:07:05.265058Z"
    },
    "trusted": true
   },
   "outputs": [],
   "source": [
    "accuracy = evaluate.load(\"accuracy\")\n",
    "\n",
    "def compute_metrics(eval_pred):\n",
    "    predictions, labels = eval_pred\n",
    "    predictions = np.argmax(predictions, axis=1)\n",
    "    return accuracy.compute(predictions=predictions, references=labels)"
   ]
  },
  {
   "cell_type": "code",
   "execution_count": 29,
   "metadata": {
    "editable": false,
    "execution": {
     "iopub.execute_input": "2025-02-17T20:07:08.658202Z",
     "iopub.status.busy": "2025-02-17T20:07:08.657875Z",
     "iopub.status.idle": "2025-02-17T20:07:08.662241Z",
     "shell.execute_reply": "2025-02-17T20:07:08.661366Z",
     "shell.execute_reply.started": "2025-02-17T20:07:08.658178Z"
    },
    "trusted": true
   },
   "outputs": [],
   "source": [
    "id2label = {0: \"negative\", 1: \"positive\"}\n",
    "label2id = {\"negative\": 0, \"positive\": 1}"
   ]
  },
  {
   "cell_type": "code",
   "execution_count": 30,
   "metadata": {
    "editable": false,
    "execution": {
     "iopub.execute_input": "2025-02-17T20:07:11.458651Z",
     "iopub.status.busy": "2025-02-17T20:07:11.458316Z",
     "iopub.status.idle": "2025-02-17T20:07:13.216464Z",
     "shell.execute_reply": "2025-02-17T20:07:13.215817Z",
     "shell.execute_reply.started": "2025-02-17T20:07:11.458623Z"
    },
    "trusted": true
   },
   "outputs": [],
   "source": [
    "from transformers import AutoModelForSequenceClassification, TrainingArguments, Trainer"
   ]
  },
  {
   "cell_type": "code",
   "execution_count": 31,
   "metadata": {
    "editable": false,
    "execution": {
     "iopub.execute_input": "2025-02-17T20:07:15.342519Z",
     "iopub.status.busy": "2025-02-17T20:07:15.342106Z",
     "iopub.status.idle": "2025-02-17T20:07:17.168508Z",
     "shell.execute_reply": "2025-02-17T20:07:17.167627Z",
     "shell.execute_reply.started": "2025-02-17T20:07:15.342484Z"
    },
    "trusted": true
   },
   "outputs": [
    {
     "name": "stderr",
     "output_type": "stream",
     "text": [
      "Some weights of DistilBertForSequenceClassification were not initialized from the model checkpoint at distilbert-base-uncased and are newly initialized: ['classifier.bias', 'classifier.weight', 'pre_classifier.bias', 'pre_classifier.weight']\n",
      "You should probably TRAIN this model on a down-stream task to be able to use it for predictions and inference.\n"
     ]
    }
   ],
   "source": [
    "model = AutoModelForSequenceClassification.from_pretrained(\n",
    "    \"distilbert-base-uncased\", num_labels=2, id2label=id2label, label2id=label2id\n",
    ")"
   ]
  },
  {
   "cell_type": "code",
   "execution_count": 32,
   "metadata": {
    "editable": false,
    "execution": {
     "iopub.execute_input": "2025-02-17T20:07:33.669663Z",
     "iopub.status.busy": "2025-02-17T20:07:33.669367Z",
     "iopub.status.idle": "2025-02-17T20:07:33.70455Z",
     "shell.execute_reply": "2025-02-17T20:07:33.703875Z",
     "shell.execute_reply.started": "2025-02-17T20:07:33.669641Z"
    },
    "trusted": true
   },
   "outputs": [],
   "source": [
    "training_args = TrainingArguments(\n",
    "    output_dir=\"imdbreviews_classification_distilbert_v02\",\n",
    "    learning_rate=2e-5,\n",
    "    per_device_train_batch_size=16,\n",
    "    per_device_eval_batch_size=16,\n",
    "    num_train_epochs=2,\n",
    "    weight_decay=0.01,\n",
    "    eval_strategy=\"epoch\",\n",
    "    save_strategy=\"epoch\",\n",
    "    load_best_model_at_end=True,\n",
    "    push_to_hub=True,\n",
    ")"
   ]
  },
  {
   "cell_type": "code",
   "execution_count": 33,
   "metadata": {
    "editable": false,
    "execution": {
     "iopub.execute_input": "2025-02-17T20:08:00.418973Z",
     "iopub.status.busy": "2025-02-17T20:08:00.418609Z",
     "iopub.status.idle": "2025-02-17T20:08:00.927587Z",
     "shell.execute_reply": "2025-02-17T20:08:00.926573Z",
     "shell.execute_reply.started": "2025-02-17T20:08:00.418946Z"
    },
    "trusted": true
   },
   "outputs": [],
   "source": [
    "trainer = Trainer(\n",
    "    model=model,\n",
    "    args=training_args,\n",
    "    train_dataset=tokenized_train,\n",
    "    eval_dataset=tokenized_val,\n",
    "    processing_class=tokenizer,\n",
    "    data_collator=data_collator,\n",
    "    compute_metrics=compute_metrics,\n",
    ")"
   ]
  },
  {
   "cell_type": "code",
   "execution_count": 34,
   "metadata": {
    "editable": false,
    "execution": {
     "iopub.execute_input": "2025-02-17T20:08:03.886471Z",
     "iopub.status.busy": "2025-02-17T20:08:03.88618Z"
    },
    "trusted": true
   },
   "outputs": [
    {
     "name": "stderr",
     "output_type": "stream",
     "text": [
      "\u001b[34m\u001b[1mwandb\u001b[0m: Currently logged in as: \u001b[33madgomezf\u001b[0m (\u001b[33madgomezf-universidad-eafit\u001b[0m) to \u001b[32mhttps://api.wandb.ai\u001b[0m. Use \u001b[1m`wandb login --relogin`\u001b[0m to force relogin\n"
     ]
    },
    {
     "data": {
      "text/html": [
       "Tracking run with wandb version 0.21.0"
      ],
      "text/plain": [
       "<IPython.core.display.HTML object>"
      ]
     },
     "metadata": {},
     "output_type": "display_data"
    },
    {
     "data": {
      "text/html": [
       "Run data is saved locally in <code>/kaggle/working/wandb/run-20251024_022353-04i7ooet</code>"
      ],
      "text/plain": [
       "<IPython.core.display.HTML object>"
      ]
     },
     "metadata": {},
     "output_type": "display_data"
    },
    {
     "data": {
      "text/html": [
       "Syncing run <strong><a href='https://wandb.ai/adgomezf-universidad-eafit/huggingface/runs/04i7ooet' target=\"_blank\">swept-pond-4</a></strong> to <a href='https://wandb.ai/adgomezf-universidad-eafit/huggingface' target=\"_blank\">Weights & Biases</a> (<a href='https://wandb.me/developer-guide' target=\"_blank\">docs</a>)<br>"
      ],
      "text/plain": [
       "<IPython.core.display.HTML object>"
      ]
     },
     "metadata": {},
     "output_type": "display_data"
    },
    {
     "data": {
      "text/html": [
       " View project at <a href='https://wandb.ai/adgomezf-universidad-eafit/huggingface' target=\"_blank\">https://wandb.ai/adgomezf-universidad-eafit/huggingface</a>"
      ],
      "text/plain": [
       "<IPython.core.display.HTML object>"
      ]
     },
     "metadata": {},
     "output_type": "display_data"
    },
    {
     "data": {
      "text/html": [
       " View run at <a href='https://wandb.ai/adgomezf-universidad-eafit/huggingface/runs/04i7ooet' target=\"_blank\">https://wandb.ai/adgomezf-universidad-eafit/huggingface/runs/04i7ooet</a>"
      ],
      "text/plain": [
       "<IPython.core.display.HTML object>"
      ]
     },
     "metadata": {},
     "output_type": "display_data"
    },
    {
     "name": "stderr",
     "output_type": "stream",
     "text": [
      "/usr/local/lib/python3.11/dist-packages/torch/nn/parallel/_functions.py:70: UserWarning: Was asked to gather along dimension 0, but all input tensors were scalars; will instead unsqueeze and return a vector.\n",
      "  warnings.warn(\n"
     ]
    },
    {
     "data": {
      "text/html": [
       "\n",
       "    <div>\n",
       "      \n",
       "      <progress value='1973' max='2000' style='width:300px; height:20px; vertical-align: middle;'></progress>\n",
       "      [1973/2000 28:32 < 00:23, 1.15 it/s, Epoch 1.97/2]\n",
       "    </div>\n",
       "    <table border=\"1\" class=\"dataframe\">\n",
       "  <thead>\n",
       " <tr style=\"text-align: left;\">\n",
       "      <th>Epoch</th>\n",
       "      <th>Training Loss</th>\n",
       "      <th>Validation Loss</th>\n",
       "      <th>Accuracy</th>\n",
       "    </tr>\n",
       "  </thead>\n",
       "  <tbody>\n",
       "    <tr>\n",
       "      <td>1</td>\n",
       "      <td>0.205400</td>\n",
       "      <td>0.203501</td>\n",
       "      <td>0.922625</td>\n",
       "    </tr>\n",
       "  </tbody>\n",
       "</table><p>"
      ],
      "text/plain": [
       "<IPython.core.display.HTML object>"
      ]
     },
     "metadata": {},
     "output_type": "display_data"
    },
    {
     "name": "stderr",
     "output_type": "stream",
     "text": [
      "/usr/local/lib/python3.11/dist-packages/torch/nn/parallel/_functions.py:70: UserWarning: Was asked to gather along dimension 0, but all input tensors were scalars; will instead unsqueeze and return a vector.\n",
      "  warnings.warn(\n"
     ]
    },
    {
     "data": {
      "text/plain": [
       "TrainOutput(global_step=2000, training_loss=0.18738901901245117, metrics={'train_runtime': 1822.6825, 'train_samples_per_second': 35.113, 'train_steps_per_second': 1.097, 'total_flos': 8475404912621952.0, 'train_loss': 0.18738901901245117, 'epoch': 2.0})"
      ]
     },
     "execution_count": 34,
     "metadata": {},
     "output_type": "execute_result"
    }
   ],
   "source": [
    "trainer.train()"
   ]
  },
  {
   "cell_type": "code",
   "execution_count": 35,
   "metadata": {
    "editable": false,
    "execution": {
     "iopub.execute_input": "2025-02-15T17:02:43.753415Z",
     "iopub.status.busy": "2025-02-15T17:02:43.753083Z",
     "iopub.status.idle": "2025-02-15T17:02:58.199705Z",
     "shell.execute_reply": "2025-02-15T17:02:58.198463Z",
     "shell.execute_reply.started": "2025-02-15T17:02:43.753389Z"
    },
    "trusted": true
   },
   "outputs": [
    {
     "name": "stderr",
     "output_type": "stream",
     "text": [
      "/usr/local/lib/python3.11/dist-packages/torch/nn/parallel/_functions.py:70: UserWarning: Was asked to gather along dimension 0, but all input tensors were scalars; will instead unsqueeze and return a vector.\n",
      "  warnings.warn(\n"
     ]
    },
    {
     "data": {
      "text/html": [],
      "text/plain": [
       "<IPython.core.display.HTML object>"
      ]
     },
     "metadata": {},
     "output_type": "display_data"
    },
    {
     "data": {
      "text/plain": [
       "{'test_loss': 0.19177094101905823,\n",
       " 'test_accuracy': 0.9266,\n",
       " 'test_runtime': 85.9602,\n",
       " 'test_samples_per_second': 116.333,\n",
       " 'test_steps_per_second': 3.641}"
      ]
     },
     "execution_count": 35,
     "metadata": {},
     "output_type": "execute_result"
    }
   ],
   "source": [
    "preds_output = trainer.predict(tokenized_test)\n",
    "preds_output.metrics"
   ]
  },
  {
   "cell_type": "code",
   "execution_count": 36,
   "metadata": {
    "editable": false,
    "execution": {
     "iopub.execute_input": "2025-02-15T17:03:03.533759Z",
     "iopub.status.busy": "2025-02-15T17:03:03.53342Z",
     "iopub.status.idle": "2025-02-15T17:03:03.78005Z",
     "shell.execute_reply": "2025-02-15T17:03:03.779434Z",
     "shell.execute_reply.started": "2025-02-15T17:03:03.533731Z"
    },
    "trusted": true
   },
   "outputs": [
    {
     "name": "stderr",
     "output_type": "stream",
     "text": [
      "Some weights of DistilBertForSequenceClassification were not initialized from the model checkpoint at distilbert-base-uncased and are newly initialized: ['classifier.bias', 'classifier.weight', 'pre_classifier.bias', 'pre_classifier.weight']\n",
      "You should probably TRAIN this model on a down-stream task to be able to use it for predictions and inference.\n"
     ]
    }
   ],
   "source": [
    "model = AutoModelForSequenceClassification.from_pretrained(\n",
    "    \"distilbert-base-uncased\", num_labels=2, id2label=id2label, label2id=label2id)"
   ]
  },
  {
   "cell_type": "code",
   "execution_count": 37,
   "metadata": {
    "editable": false,
    "execution": {
     "iopub.execute_input": "2025-02-15T17:03:08.587469Z",
     "iopub.status.busy": "2025-02-15T17:03:08.587166Z",
     "iopub.status.idle": "2025-02-15T17:03:08.592165Z",
     "shell.execute_reply": "2025-02-15T17:03:08.591004Z",
     "shell.execute_reply.started": "2025-02-15T17:03:08.587436Z"
    },
    "trusted": true
   },
   "outputs": [],
   "source": [
    "# Freeze all layers\n",
    "for param in model.parameters():\n",
    "    param.requires_grad = False\n",
    "\n",
    "# Unfreeze the classifier layer\n",
    "for param in model.classifier.parameters():\n",
    "    param.requires_grad = True"
   ]
  },
  {
   "cell_type": "code",
   "execution_count": 38,
   "metadata": {
    "editable": false,
    "execution": {
     "iopub.execute_input": "2025-02-15T17:03:10.837337Z",
     "iopub.status.busy": "2025-02-15T17:03:10.837051Z",
     "iopub.status.idle": "2025-02-15T17:03:10.843158Z",
     "shell.execute_reply": "2025-02-15T17:03:10.842417Z",
     "shell.execute_reply.started": "2025-02-15T17:03:10.837315Z"
    },
    "trusted": true
   },
   "outputs": [
    {
     "data": {
      "text/plain": [
       "DistilBertForSequenceClassification(\n",
       "  (distilbert): DistilBertModel(\n",
       "    (embeddings): Embeddings(\n",
       "      (word_embeddings): Embedding(30522, 768, padding_idx=0)\n",
       "      (position_embeddings): Embedding(512, 768)\n",
       "      (LayerNorm): LayerNorm((768,), eps=1e-12, elementwise_affine=True)\n",
       "      (dropout): Dropout(p=0.1, inplace=False)\n",
       "    )\n",
       "    (transformer): Transformer(\n",
       "      (layer): ModuleList(\n",
       "        (0-5): 6 x TransformerBlock(\n",
       "          (attention): DistilBertSdpaAttention(\n",
       "            (dropout): Dropout(p=0.1, inplace=False)\n",
       "            (q_lin): Linear(in_features=768, out_features=768, bias=True)\n",
       "            (k_lin): Linear(in_features=768, out_features=768, bias=True)\n",
       "            (v_lin): Linear(in_features=768, out_features=768, bias=True)\n",
       "            (out_lin): Linear(in_features=768, out_features=768, bias=True)\n",
       "          )\n",
       "          (sa_layer_norm): LayerNorm((768,), eps=1e-12, elementwise_affine=True)\n",
       "          (ffn): FFN(\n",
       "            (dropout): Dropout(p=0.1, inplace=False)\n",
       "            (lin1): Linear(in_features=768, out_features=3072, bias=True)\n",
       "            (lin2): Linear(in_features=3072, out_features=768, bias=True)\n",
       "            (activation): GELUActivation()\n",
       "          )\n",
       "          (output_layer_norm): LayerNorm((768,), eps=1e-12, elementwise_affine=True)\n",
       "        )\n",
       "      )\n",
       "    )\n",
       "  )\n",
       "  (pre_classifier): Linear(in_features=768, out_features=768, bias=True)\n",
       "  (classifier): Linear(in_features=768, out_features=2, bias=True)\n",
       "  (dropout): Dropout(p=0.2, inplace=False)\n",
       ")"
      ]
     },
     "execution_count": 38,
     "metadata": {},
     "output_type": "execute_result"
    }
   ],
   "source": [
    "model"
   ]
  },
  {
   "cell_type": "code",
   "execution_count": 39,
   "metadata": {
    "editable": false,
    "execution": {
     "iopub.execute_input": "2025-02-15T17:04:09.66672Z",
     "iopub.status.busy": "2025-02-15T17:04:09.666334Z",
     "iopub.status.idle": "2025-02-15T17:04:09.702625Z",
     "shell.execute_reply": "2025-02-15T17:04:09.701804Z",
     "shell.execute_reply.started": "2025-02-15T17:04:09.666689Z"
    },
    "trusted": true
   },
   "outputs": [],
   "source": [
    "training_args = TrainingArguments(\n",
    "    output_dir=\"imdbreviews_classification_distilbert_v02_clf_finetuning\",\n",
    "    learning_rate=1e-4,\n",
    "    per_device_train_batch_size=16,\n",
    "    per_device_eval_batch_size=16,\n",
    "    num_train_epochs=2,\n",
    "    weight_decay=0.01,\n",
    "    eval_strategy=\"epoch\",\n",
    "    save_strategy=\"epoch\",\n",
    "    load_best_model_at_end=True,\n",
    "    push_to_hub=True,\n",
    ")"
   ]
  },
  {
   "cell_type": "code",
   "execution_count": 40,
   "metadata": {
    "editable": false,
    "execution": {
     "iopub.execute_input": "2025-02-15T17:04:12.999201Z",
     "iopub.status.busy": "2025-02-15T17:04:12.998896Z",
     "iopub.status.idle": "2025-02-15T17:04:13.176913Z",
     "shell.execute_reply": "2025-02-15T17:04:13.176136Z",
     "shell.execute_reply.started": "2025-02-15T17:04:12.999177Z"
    },
    "trusted": true
   },
   "outputs": [
    {
     "name": "stderr",
     "output_type": "stream",
     "text": [
      "/tmp/ipykernel_16595/2812472608.py:1: FutureWarning: `tokenizer` is deprecated and will be removed in version 5.0.0 for `Trainer.__init__`. Use `processing_class` instead.\n",
      "  trainer = Trainer(\n"
     ]
    }
   ],
   "source": [
    "trainer = Trainer(\n",
    "    model=model,\n",
    "    args=training_args,\n",
    "    train_dataset=tokenized_train,\n",
    "    eval_dataset=tokenized_val,\n",
    "    tokenizer=tokenizer,\n",
    "    data_collator=data_collator,\n",
    "    compute_metrics=compute_metrics,\n",
    ")"
   ]
  },
  {
   "cell_type": "code",
   "execution_count": 41,
   "metadata": {
    "editable": false,
    "execution": {
     "iopub.status.busy": "2025-02-15T17:13:29.537781Z",
     "iopub.status.idle": "2025-02-15T17:13:29.538029Z",
     "shell.execute_reply": "2025-02-15T17:13:29.537929Z"
    },
    "trusted": true
   },
   "outputs": [
    {
     "name": "stderr",
     "output_type": "stream",
     "text": [
      "/usr/local/lib/python3.11/dist-packages/torch/nn/parallel/_functions.py:70: UserWarning: Was asked to gather along dimension 0, but all input tensors were scalars; will instead unsqueeze and return a vector.\n",
      "  warnings.warn(\n"
     ]
    },
    {
     "data": {
      "text/html": [
       "\n",
       "    <div>\n",
       "      \n",
       "      <progress value='2000' max='2000' style='width:300px; height:20px; vertical-align: middle;'></progress>\n",
       "      [2000/2000 12:30, Epoch 2/2]\n",
       "    </div>\n",
       "    <table border=\"1\" class=\"dataframe\">\n",
       "  <thead>\n",
       " <tr style=\"text-align: left;\">\n",
       "      <th>Epoch</th>\n",
       "      <th>Training Loss</th>\n",
       "      <th>Validation Loss</th>\n",
       "      <th>Accuracy</th>\n",
       "    </tr>\n",
       "  </thead>\n",
       "  <tbody>\n",
       "    <tr>\n",
       "      <td>1</td>\n",
       "      <td>0.662300</td>\n",
       "      <td>0.651019</td>\n",
       "      <td>0.766375</td>\n",
       "    </tr>\n",
       "    <tr>\n",
       "      <td>2</td>\n",
       "      <td>0.644200</td>\n",
       "      <td>0.638105</td>\n",
       "      <td>0.772000</td>\n",
       "    </tr>\n",
       "  </tbody>\n",
       "</table><p>"
      ],
      "text/plain": [
       "<IPython.core.display.HTML object>"
      ]
     },
     "metadata": {},
     "output_type": "display_data"
    },
    {
     "name": "stderr",
     "output_type": "stream",
     "text": [
      "/usr/local/lib/python3.11/dist-packages/torch/nn/parallel/_functions.py:70: UserWarning: Was asked to gather along dimension 0, but all input tensors were scalars; will instead unsqueeze and return a vector.\n",
      "  warnings.warn(\n"
     ]
    },
    {
     "data": {
      "text/plain": [
       "TrainOutput(global_step=2000, training_loss=0.6599857788085938, metrics={'train_runtime': 751.0843, 'train_samples_per_second': 85.21, 'train_steps_per_second': 2.663, 'total_flos': 8475404912621952.0, 'train_loss': 0.6599857788085938, 'epoch': 2.0})"
      ]
     },
     "execution_count": 41,
     "metadata": {},
     "output_type": "execute_result"
    }
   ],
   "source": [
    "trainer.train()"
   ]
  },
  {
   "cell_type": "code",
   "execution_count": 42,
   "metadata": {
    "editable": false,
    "execution": {
     "iopub.execute_input": "2024-03-18T15:06:47.539009Z",
     "iopub.status.busy": "2024-03-18T15:06:47.538008Z",
     "iopub.status.idle": "2024-03-18T15:08:12.958189Z",
     "shell.execute_reply": "2024-03-18T15:08:12.957286Z",
     "shell.execute_reply.started": "2024-03-18T15:06:47.538971Z"
    },
    "trusted": true
   },
   "outputs": [
    {
     "name": "stderr",
     "output_type": "stream",
     "text": [
      "/usr/local/lib/python3.11/dist-packages/torch/nn/parallel/_functions.py:70: UserWarning: Was asked to gather along dimension 0, but all input tensors were scalars; will instead unsqueeze and return a vector.\n",
      "  warnings.warn(\n"
     ]
    },
    {
     "data": {
      "text/html": [],
      "text/plain": [
       "<IPython.core.display.HTML object>"
      ]
     },
     "metadata": {},
     "output_type": "display_data"
    },
    {
     "data": {
      "text/plain": [
       "{'test_loss': 0.6382277607917786,\n",
       " 'test_accuracy': 0.7694,\n",
       " 'test_runtime': 85.8554,\n",
       " 'test_samples_per_second': 116.475,\n",
       " 'test_steps_per_second': 3.646}"
      ]
     },
     "execution_count": 42,
     "metadata": {},
     "output_type": "execute_result"
    }
   ],
   "source": [
    "preds_output = trainer.predict(tokenized_test)\n",
    "preds_output.metrics"
   ]
  },
  {
   "cell_type": "markdown",
   "metadata": {},
   "source": [
    "## Evaluate Model on Labeled Test Set\n",
    "\n",
    "First, let's evaluate our model on the labeled test set to see its performance before generating the competition submission.\n"
   ]
  },
  {
   "cell_type": "code",
   "execution_count": 47,
   "metadata": {},
   "outputs": [
    {
     "name": "stdout",
     "output_type": "stream",
     "text": [
      "Labeled test data shape: (4265, 3)\n",
      "Columns: ['id', 'text', 'pred']\n",
      "\n",
      "Label distribution:\n",
      "pred\n",
      "1    2133\n",
      "0    2132\n",
      "Name: count, dtype: int64\n"
     ]
    }
   ],
   "source": [
    "# Load labeled test set for evaluation\n",
    "labeled_test = pd.read_csv('/kaggle/input/testdata/labeled_test_set.csv')\n",
    "print(f\"Labeled test data shape: {labeled_test.shape}\")\n",
    "print(f\"Columns: {labeled_test.columns.tolist()}\")\n",
    "print(\"\\nLabel distribution:\")\n",
    "print(labeled_test['pred'].value_counts())\n"
   ]
  },
  {
   "cell_type": "code",
   "execution_count": 48,
   "metadata": {},
   "outputs": [
    {
     "data": {
      "application/vnd.jupyter.widget-view+json": {
       "model_id": "f8b71a3c49f34487ab22eccb1391ec82",
       "version_major": 2,
       "version_minor": 0
      },
      "text/plain": [
       "Map:   0%|          | 0/4265 [00:00<?, ? examples/s]"
      ]
     },
     "metadata": {},
     "output_type": "display_data"
    },
    {
     "name": "stdout",
     "output_type": "stream",
     "text": [
      "Labeled test data tokenized successfully!\n"
     ]
    }
   ],
   "source": [
    "# Rename 'pred' to 'label' to match our training format\n",
    "labeled_test_eval = labeled_test.rename(columns={'pred': 'label'})\n",
    "\n",
    "# Create dataset\n",
    "labeled_test_ds = Dataset.from_pandas(labeled_test_eval, split=\"test\")\n",
    "\n",
    "# Tokenize\n",
    "tokenized_labeled_test = labeled_test_ds.map(preprocess_function, batched=True)\n",
    "print(\"Labeled test data tokenized successfully!\")\n"
   ]
  },
  {
   "cell_type": "code",
   "execution_count": 49,
   "metadata": {},
   "outputs": [
    {
     "name": "stderr",
     "output_type": "stream",
     "text": [
      "/usr/local/lib/python3.11/dist-packages/torch/nn/parallel/_functions.py:70: UserWarning: Was asked to gather along dimension 0, but all input tensors were scalars; will instead unsqueeze and return a vector.\n",
      "  warnings.warn(\n"
     ]
    },
    {
     "data": {
      "text/html": [],
      "text/plain": [
       "<IPython.core.display.HTML object>"
      ]
     },
     "metadata": {},
     "output_type": "display_data"
    },
    {
     "name": "stdout",
     "output_type": "stream",
     "text": [
      "Test Set Performance:\n",
      "Test Loss: 0.6493\n",
      "Test Accuracy: 0.7020\n",
      "Eval Runtime: 6.16s\n",
      "Eval Samples per Second: 692.20\n"
     ]
    }
   ],
   "source": [
    "# Evaluate model on labeled test set\n",
    "eval_results = trainer.predict(tokenized_labeled_test)\n",
    "\n",
    "# Display metrics\n",
    "print(\"Test Set Performance:\")\n",
    "print(f\"Test Loss: {eval_results.metrics['test_loss']:.4f}\")\n",
    "print(f\"Test Accuracy: {eval_results.metrics['test_accuracy']:.4f}\")\n",
    "print(f\"Eval Runtime: {eval_results.metrics['test_runtime']:.2f}s\")\n",
    "print(f\"Eval Samples per Second: {eval_results.metrics['test_samples_per_second']:.2f}\")\n"
   ]
  },
  {
   "cell_type": "code",
   "execution_count": null,
   "metadata": {},
   "outputs": [
    {
     "name": "stdout",
     "output_type": "stream",
     "text": [
      "\n",
      "Prediction distribution on labeled test set:\n",
      "Negative (0): 1509 (35.4%)\n",
      "Positive (1): 2756 (64.6%)\n"
     ]
    }
   ],
   "source": [
    "# Get detailed metrics\n",
    "from sklearn.metrics import classification_report, confusion_matrix\n",
    "import matplotlib.pyplot as plt\n",
    "import seaborn as sns\n",
    "\n",
    "# Get predictions (this must happen FIRST!)\n",
    "predictions = np.argmax(eval_results.predictions, axis=1)\n",
    "true_labels = labeled_test_eval['label'].values\n",
    "\n",
    "# Show prediction distribution\n",
    "pred_dist = pd.Series(predictions).value_counts()\n",
    "print(\"\\nPrediction distribution on labeled test set:\")\n",
    "print(f\"Negative (0): {pred_dist.get(0, 0)} ({pred_dist.get(0, 0)/len(predictions)*100:.1f}%)\")\n",
    "print(f\"Positive (1): {pred_dist.get(1, 0)} ({pred_dist.get(1, 0)/len(predictions)*100:.1f}%)\")\n",
    "\n",
    "# Classification report\n",
    "print(\"\\nClassification Report:\")\n",
    "print(classification_report(true_labels, predictions, \n",
    "                          target_names=['Negative', 'Positive']))\n",
    "\n",
    "# Confusion matrix\n",
    "cm = confusion_matrix(true_labels, predictions)\n",
    "plt.figure(figsize=(8, 6))\n",
    "sns.heatmap(cm, annot=True, fmt='d', cmap='Blues', \n",
    "            xticklabels=['Negative', 'Positive'],\n",
    "            yticklabels=['Negative', 'Positive'])\n",
    "plt.title('Confusion Matrix on Labeled Test Set')\n",
    "plt.ylabel('True Label')\n",
    "plt.xlabel('Predicted Label')\n",
    "plt.show()\n"
   ]
  },
  {
   "cell_type": "code",
   "execution_count": null,
   "metadata": {},
   "outputs": [
    {
     "name": "stdout",
     "output_type": "stream",
     "text": [
      "\n",
      "Classification Report:\n",
      "              precision    recall  f1-score   support\n",
      "\n",
      "    Negative       0.79      0.56      0.65      2132\n",
      "    Positive       0.66      0.85      0.74      2133\n",
      "\n",
      "    accuracy                           0.70      4265\n",
      "   macro avg       0.72      0.70      0.70      4265\n",
      "weighted avg       0.72      0.70      0.70      4265\n",
      "\n"
     ]
    },
    {
     "data": {
      "image/png": "[encoded data removed]",
      "text/plain": [
       "<Figure size 800x600 with 2 Axes>"
      ]
     },
     "metadata": {},
     "output_type": "display_data"
    }
   ],
   "source": [
    "\n"
   ]
  },
  {
   "cell_type": "markdown",
   "metadata": {},
   "source": [
    "## Generate Competition Submission File\n",
    "\n",
    "Now that we've evaluated our model's performance on the labeled test set, let's generate predictions for the competition submission using the unlabeled test set.\n",
    "\n",
    "The following cells will:\n",
    "1. Load the test data from `test_set.csv`\n",
    "2. Preprocess the test data using the same tokenizer\n",
    "3. Generate predictions using the trained model\n",
    "4. Create a submission CSV file with `id` and `pred` columns\n"
   ]
  },
  {
   "cell_type": "code",
   "execution_count": 54,
   "metadata": {},
   "outputs": [
    {
     "name": "stdout",
     "output_type": "stream",
     "text": [
      "Test data shape: (4265, 2)\n",
      "     id                                               text\n",
      "0  7899  as predictable as the outcome of a globetrotte...\n",
      "1  1050  visually imaginative , thematically instructiv...\n",
      "2  6016  don't be fooled by the impressive cast list - ...\n",
      "3  6089               has all the depth of a wading pool .\n",
      "4  1695  lookin' for sin , american-style ? try hell ho...\n"
     ]
    }
   ],
   "source": [
    "# Load test data for submission\n",
    "test_submission = pd.read_csv('/kaggle/input/testdata/test_set.csv')\n",
    "print(f\"Test data shape: {test_submission.shape}\")\n",
    "print(test_submission.head())\n"
   ]
  },
  {
   "cell_type": "code",
   "execution_count": 55,
   "metadata": {},
   "outputs": [
    {
     "name": "stdout",
     "output_type": "stream",
     "text": [
      "Column names: ['id', 'text']\n",
      "\n",
      "Updated column names: ['id', 'text']\n"
     ]
    }
   ],
   "source": [
    "# Check column names and rename if necessary\n",
    "print(\"Column names:\", test_submission.columns.tolist())\n",
    "\n",
    "# If the text column has a different name (like 'review'), rename it to 'text'\n",
    "# Adjust this based on your actual column names\n",
    "if 'review' in test_submission.columns and 'text' not in test_submission.columns:\n",
    "    test_submission = test_submission.rename(columns={'review': 'text'})\n",
    "    print(\"Renamed 'review' column to 'text'\")\n",
    "elif 'Text' in test_submission.columns and 'text' not in test_submission.columns:\n",
    "    test_submission = test_submission.rename(columns={'Text': 'text'})\n",
    "    print(\"Renamed 'Text' column to 'text'\")\n",
    "    \n",
    "# Ensure 'id' column exists\n",
    "if 'ID' in test_submission.columns and 'id' not in test_submission.columns:\n",
    "    test_submission = test_submission.rename(columns={'ID': 'id'})\n",
    "    print(\"Renamed 'ID' column to 'id'\")\n",
    "    \n",
    "print(\"\\nUpdated column names:\", test_submission.columns.tolist())\n"
   ]
  },
  {
   "cell_type": "code",
   "execution_count": 56,
   "metadata": {},
   "outputs": [
    {
     "data": {
      "application/vnd.jupyter.widget-view+json": {
       "model_id": "17ce3e1124844f1398512e590fc2f244",
       "version_major": 2,
       "version_minor": 0
      },
      "text/plain": [
       "Map:   0%|          | 0/4265 [00:00<?, ? examples/s]"
      ]
     },
     "metadata": {},
     "output_type": "display_data"
    },
    {
     "name": "stdout",
     "output_type": "stream",
     "text": [
      "Test data tokenized successfully!\n"
     ]
    }
   ],
   "source": [
    "# Create test dataset from submission data\n",
    "# Assuming the test data has an 'id' column and a 'text' column (adjust column name if different)\n",
    "test_submission_ds = Dataset.from_pandas(test_submission, split=\"test\")\n",
    "\n",
    "# Tokenize test data\n",
    "tokenized_test_submission = test_submission_ds.map(preprocess_function, batched=True)\n",
    "print(\"Test data tokenized successfully!\")\n"
   ]
  },
  {
   "cell_type": "code",
   "execution_count": 57,
   "metadata": {},
   "outputs": [
    {
     "data": {
      "text/html": [],
      "text/plain": [
       "<IPython.core.display.HTML object>"
      ]
     },
     "metadata": {},
     "output_type": "display_data"
    },
    {
     "name": "stdout",
     "output_type": "stream",
     "text": [
      "Generated 4265 predictions\n"
     ]
    }
   ],
   "source": [
    "# Generate predictions on test data\n",
    "test_predictions = trainer.predict(tokenized_test_submission)\n",
    "\n",
    "# Extract predicted labels (0 or 1)\n",
    "predictions = np.argmax(test_predictions.predictions, axis=1)\n",
    "print(f\"Generated {len(predictions)} predictions\")\n"
   ]
  },
  {
   "cell_type": "code",
   "execution_count": 58,
   "metadata": {},
   "outputs": [
    {
     "name": "stdout",
     "output_type": "stream",
     "text": [
      "Submission file created successfully!\n",
      "Submission shape: (4265, 2)\n",
      "\n",
      "First few rows:\n",
      "     id  pred\n",
      "0  7899     1\n",
      "1  1050     1\n",
      "2  6016     0\n",
      "3  6089     1\n",
      "4  1695     0\n",
      "\n",
      "Prediction distribution:\n",
      "pred\n",
      "1    2804\n",
      "0    1461\n",
      "Name: count, dtype: int64\n"
     ]
    }
   ],
   "source": [
    "# Create submission DataFrame with required format\n",
    "submission = pd.DataFrame({\n",
    "    'id': test_submission['id'],\n",
    "    'pred': predictions\n",
    "})\n",
    "\n",
    "# Save to CSV\n",
    "submission.to_csv('submission.csv', index=False)\n",
    "print(\"Submission file created successfully!\")\n",
    "print(f\"Submission shape: {submission.shape}\")\n",
    "print(\"\\nFirst few rows:\")\n",
    "print(submission.head())\n",
    "print(\"\\nPrediction distribution:\")\n",
    "print(submission['pred'].value_counts())\n"
   ]
  },
  {
   "cell_type": "code",
   "execution_count": 59,
   "metadata": {},
   "outputs": [
    {
     "name": "stdout",
     "output_type": "stream",
     "text": [
      "Submission file columns: ['id', 'pred']\n",
      "\n",
      "Example format (should match competition requirements):\n",
      "id,pred\n",
      "7899,1\n",
      "1050,1\n",
      "...\n"
     ]
    }
   ],
   "source": [
    "# Verify submission file format\n",
    "verify_submission = pd.read_csv('submission.csv')\n",
    "print(\"Submission file columns:\", verify_submission.columns.tolist())\n",
    "print(\"\\nExample format (should match competition requirements):\")\n",
    "print(\"id,pred\")\n",
    "print(f\"{verify_submission.iloc[0]['id']},{verify_submission.iloc[0]['pred']}\")\n",
    "print(f\"{verify_submission.iloc[1]['id']},{verify_submission.iloc[1]['pred']}\")\n",
    "print(\"...\")\n"
   ]
  }
 ],
 "metadata": {
  "kaggle": {
   "accelerator": "nvidiaTeslaT4",
   "dataSources": [
    {
     "datasetId": 134715,
     "sourceId": 320111,
     "sourceType": "datasetVersion"
    }
   ],
   "isGpuEnabled": true,
   "isInternetEnabled": false,
   "language": "python",
   "sourceType": "notebook"
  },
  "kernelspec": {
   "display_name": "Python 3 (ipykernel)",
   "language": "python",
   "name": "python3"
  },
  "language_info": {
   "codemirror_mode": {
    "name": "ipython",
    "version": 3
   },
   "file_extension": ".py",
   "mimetype": "text/x-python",
   "name": "python",
   "nbconvert_exporter": "python",
   "pygments_lexer": "ipython3",
   "version": "3.11.13"
  }
 },
 "nbformat": 4,
 "nbformat_minor": 4
}
